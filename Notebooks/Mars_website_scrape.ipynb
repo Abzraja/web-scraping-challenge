{
 "cells": [
  {
   "cell_type": "code",
   "execution_count": 1,
   "id": "26848ec6",
   "metadata": {},
   "outputs": [],
   "source": [
    "#import dependencies\n",
    "import pandas as pd\n",
    "from splinter import Browser\n",
    "from bs4 import BeautifulSoup\n",
    "from webdriver_manager.chrome import ChromeDriverManager"
   ]
  },
  {
   "cell_type": "code",
   "execution_count": 2,
   "id": "b3ed32e0",
   "metadata": {},
   "outputs": [
    {
     "name": "stderr",
     "output_type": "stream",
     "text": [
      "\n",
      "\n",
      "====== WebDriver manager ======\n",
      "Current google-chrome version is 96.0.4664\n",
      "Get LATEST driver version for 96.0.4664\n",
      "There is no [win32] chromedriver for browser 96.0.4664 in cache\n",
      "Get LATEST driver version for 96.0.4664\n",
      "Trying to download new driver from https://chromedriver.storage.googleapis.com/96.0.4664.45/chromedriver_win32.zip\n",
      "Driver has been saved in cache [C:\\Users\\abdur\\.wdm\\drivers\\chromedriver\\win32\\96.0.4664.45]\n"
     ]
    }
   ],
   "source": [
    "#set up splinter\n",
    "browser = Browser('chrome', executable_path=ChromeDriverManager().install(), headless=False)"
   ]
  },
  {
   "cell_type": "code",
   "execution_count": 3,
   "id": "bd1c5457",
   "metadata": {},
   "outputs": [],
   "source": [
    "#visit url in splinter\n",
    "browser.visit(\"https://redplanetscience.com/\")"
   ]
  },
  {
   "cell_type": "code",
   "execution_count": 4,
   "id": "e5a1a36b",
   "metadata": {},
   "outputs": [],
   "source": [
    "#set variables\n",
    "html = browser.html\n",
    "soup = BeautifulSoup(html, 'html.parser')"
   ]
  },
  {
   "cell_type": "code",
   "execution_count": 5,
   "id": "b834b1eb",
   "metadata": {},
   "outputs": [
    {
     "name": "stdout",
     "output_type": "stream",
     "text": [
      "NASA Adds Return Sample Scientists to Mars 2020 Leadership Team\n"
     ]
    }
   ],
   "source": [
    "#get news title text into news_title variable \n",
    "news_title = soup.find(\"div\", class_=\"content_title\").get_text()\n",
    "print(news_title)"
   ]
  },
  {
   "cell_type": "code",
   "execution_count": 6,
   "id": "9e8e78c3",
   "metadata": {},
   "outputs": [
    {
     "name": "stdout",
     "output_type": "stream",
     "text": [
      "The leadership council for Mars 2020 science added two new members who represent the interests of scientists destined to handle and study the first samples from Red Planet.\n"
     ]
    }
   ],
   "source": [
    "#get short article text under article title into news_p variable\n",
    "news_p = soup.find(\"div\", class_=\"article_teaser_body\").get_text()\n",
    "print(news_p)"
   ]
  },
  {
   "cell_type": "code",
   "execution_count": 7,
   "id": "3e843309",
   "metadata": {},
   "outputs": [],
   "source": [
    "#visit url in splinter\n",
    "browser.visit(\"https://spaceimages-mars.com/\")"
   ]
  },
  {
   "cell_type": "code",
   "execution_count": 8,
   "id": "8092868d",
   "metadata": {},
   "outputs": [],
   "source": [
    "#set variables again for new URL\n",
    "html = browser.html\n",
    "soup = BeautifulSoup(html, 'html.parser')"
   ]
  },
  {
   "cell_type": "code",
   "execution_count": 9,
   "id": "ec0525de",
   "metadata": {},
   "outputs": [
    {
     "name": "stdout",
     "output_type": "stream",
     "text": [
      "https://spaceimages-mars.com/image/featured/mars3.jpg\n"
     ]
    }
   ],
   "source": [
    "#get featured image address and save to featured_image_url variable\n",
    "base_url = \"https://spaceimages-mars.com/\"\n",
    "featured_image_url = base_url + soup.find(\"img\", class_=\"headerimage fade-in\")[\"src\"]\n",
    "print(featured_image_url)"
   ]
  },
  {
   "cell_type": "code",
   "execution_count": 10,
   "id": "bad31246",
   "metadata": {},
   "outputs": [
    {
     "name": "stdout",
     "output_type": "stream",
     "text": [
      "[                         0                1                2\n",
      "0  Mars - Earth Comparison             Mars            Earth\n",
      "1                Diameter:         6,779 km        12,742 km\n",
      "2                    Mass:  6.39 × 10^23 kg  5.97 × 10^24 kg\n",
      "3                   Moons:                2                1\n",
      "4       Distance from Sun:   227,943,824 km   149,598,262 km\n",
      "5          Length of Year:   687 Earth days      365.24 days\n",
      "6             Temperature:     -87 to -5 °C      -88 to 58°C,                       0                              1\n",
      "0  Equatorial Diameter:                       6,792 km\n",
      "1       Polar Diameter:                       6,752 km\n",
      "2                 Mass:  6.39 × 10^23 kg (0.11 Earths)\n",
      "3                Moons:          2 ( Phobos & Deimos )\n",
      "4       Orbit Distance:       227,943,824 km (1.38 AU)\n",
      "5         Orbit Period:           687 days (1.9 years)\n",
      "6  Surface Temperature:                   -87 to -5 °C\n",
      "7         First Record:              2nd millennium BC\n",
      "8          Recorded By:           Egyptian astronomers]\n"
     ]
    }
   ],
   "source": [
    "#use pandas to scrape table from web page\n",
    "tables = pd.read_html(\"https://galaxyfacts-mars.com/\")\n",
    "print(tables)"
   ]
  },
  {
   "cell_type": "code",
   "execution_count": 11,
   "id": "883b74c2",
   "metadata": {},
   "outputs": [
    {
     "data": {
      "text/html": [
       "<div>\n",
       "<style scoped>\n",
       "    .dataframe tbody tr th:only-of-type {\n",
       "        vertical-align: middle;\n",
       "    }\n",
       "\n",
       "    .dataframe tbody tr th {\n",
       "        vertical-align: top;\n",
       "    }\n",
       "\n",
       "    .dataframe thead th {\n",
       "        text-align: right;\n",
       "    }\n",
       "</style>\n",
       "<table border=\"1\" class=\"dataframe\">\n",
       "  <thead>\n",
       "    <tr style=\"text-align: right;\">\n",
       "      <th></th>\n",
       "      <th>0</th>\n",
       "      <th>1</th>\n",
       "    </tr>\n",
       "  </thead>\n",
       "  <tbody>\n",
       "    <tr>\n",
       "      <th>0</th>\n",
       "      <td>Equatorial Diameter:</td>\n",
       "      <td>6,792 km</td>\n",
       "    </tr>\n",
       "    <tr>\n",
       "      <th>1</th>\n",
       "      <td>Polar Diameter:</td>\n",
       "      <td>6,752 km</td>\n",
       "    </tr>\n",
       "    <tr>\n",
       "      <th>2</th>\n",
       "      <td>Mass:</td>\n",
       "      <td>6.39 × 10^23 kg (0.11 Earths)</td>\n",
       "    </tr>\n",
       "    <tr>\n",
       "      <th>3</th>\n",
       "      <td>Moons:</td>\n",
       "      <td>2 ( Phobos &amp; Deimos )</td>\n",
       "    </tr>\n",
       "    <tr>\n",
       "      <th>4</th>\n",
       "      <td>Orbit Distance:</td>\n",
       "      <td>227,943,824 km (1.38 AU)</td>\n",
       "    </tr>\n",
       "    <tr>\n",
       "      <th>5</th>\n",
       "      <td>Orbit Period:</td>\n",
       "      <td>687 days (1.9 years)</td>\n",
       "    </tr>\n",
       "    <tr>\n",
       "      <th>6</th>\n",
       "      <td>Surface Temperature:</td>\n",
       "      <td>-87 to -5 °C</td>\n",
       "    </tr>\n",
       "    <tr>\n",
       "      <th>7</th>\n",
       "      <td>First Record:</td>\n",
       "      <td>2nd millennium BC</td>\n",
       "    </tr>\n",
       "    <tr>\n",
       "      <th>8</th>\n",
       "      <td>Recorded By:</td>\n",
       "      <td>Egyptian astronomers</td>\n",
       "    </tr>\n",
       "  </tbody>\n",
       "</table>\n",
       "</div>"
      ],
      "text/plain": [
       "                      0                              1\n",
       "0  Equatorial Diameter:                       6,792 km\n",
       "1       Polar Diameter:                       6,752 km\n",
       "2                 Mass:  6.39 × 10^23 kg (0.11 Earths)\n",
       "3                Moons:          2 ( Phobos & Deimos )\n",
       "4       Orbit Distance:       227,943,824 km (1.38 AU)\n",
       "5         Orbit Period:           687 days (1.9 years)\n",
       "6  Surface Temperature:                   -87 to -5 °C\n",
       "7         First Record:              2nd millennium BC\n",
       "8          Recorded By:           Egyptian astronomers"
      ]
     },
     "execution_count": 11,
     "metadata": {},
     "output_type": "execute_result"
    }
   ],
   "source": [
    "# get table from list\n",
    "df = tables[1]\n",
    "df"
   ]
  },
  {
   "cell_type": "code",
   "execution_count": 12,
   "id": "4a9bc7db",
   "metadata": {},
   "outputs": [
    {
     "name": "stdout",
     "output_type": "stream",
     "text": [
      "<table border=\"1\" class=\"dataframe table-striped\">\n",
      "  <tbody>\n",
      "    <tr>\n",
      "      <td>Equatorial Diameter:</td>\n",
      "      <td>6,792 km</td>\n",
      "    </tr>\n",
      "    <tr>\n",
      "      <td>Polar Diameter:</td>\n",
      "      <td>6,752 km</td>\n",
      "    </tr>\n",
      "    <tr>\n",
      "      <td>Mass:</td>\n",
      "      <td>6.39 × 10^23 kg (0.11 Earths)</td>\n",
      "    </tr>\n",
      "    <tr>\n",
      "      <td>Moons:</td>\n",
      "      <td>2 ( Phobos &amp; Deimos )</td>\n",
      "    </tr>\n",
      "    <tr>\n",
      "      <td>Orbit Distance:</td>\n",
      "      <td>227,943,824 km (1.38 AU)</td>\n",
      "    </tr>\n",
      "    <tr>\n",
      "      <td>Orbit Period:</td>\n",
      "      <td>687 days (1.9 years)</td>\n",
      "    </tr>\n",
      "    <tr>\n",
      "      <td>Surface Temperature:</td>\n",
      "      <td>-87 to -5 °C</td>\n",
      "    </tr>\n",
      "    <tr>\n",
      "      <td>First Record:</td>\n",
      "      <td>2nd millennium BC</td>\n",
      "    </tr>\n",
      "    <tr>\n",
      "      <td>Recorded By:</td>\n",
      "      <td>Egyptian astronomers</td>\n",
      "    </tr>\n",
      "  </tbody>\n",
      "</table>\n"
     ]
    }
   ],
   "source": [
    "# convert to html string\n",
    "html_table = df.to_html(index=False, header=False, classes=\"table-striped\")\n",
    "print(html_table)"
   ]
  },
  {
   "cell_type": "code",
   "execution_count": 13,
   "id": "f3806ef7",
   "metadata": {},
   "outputs": [],
   "source": [
    "#visit url in splinter\n",
    "#url = \"https://marshemispheres.com/cerberus.html\"\n",
    "url = \"https://marshemispheres.com/\"\n",
    "browser.visit(url)"
   ]
  },
  {
   "cell_type": "code",
   "execution_count": 14,
   "id": "c8e85485",
   "metadata": {},
   "outputs": [],
   "source": [
    "#set variables again for new URL\n",
    "html = browser.html\n",
    "soup = BeautifulSoup(html, 'html.parser')"
   ]
  },
  {
   "cell_type": "code",
   "execution_count": 16,
   "id": "70b3ce40",
   "metadata": {},
   "outputs": [
    {
     "name": "stdout",
     "output_type": "stream",
     "text": [
      "['https://marshemispheres.com/cerberus.html', 'https://marshemispheres.com/schiaparelli.html', 'https://marshemispheres.com/syrtis.html', 'https://marshemispheres.com/valles.html']\n",
      "[<a class=\"itemLink product-item\" href=\"valles.html\">\n",
      "<h3>Valles Marineris Hemisphere Enhanced</h3>\n",
      "</a>]\n"
     ]
    }
   ],
   "source": [
    "# create list to store dictionaries\n",
    "hemisphere_image_urls = []\n",
    "# create list to store links\n",
    "link_list = []\n",
    "#find all div tags with class description and iterate over them\n",
    "for div in soup.findAll(\"div\", attrs={\"class\":\"description\"}):\n",
    "    #find all hyperlinks\n",
    "    links_list = div.findAll(\"a\")\n",
    "    #iterate over hyperlinks\n",
    "    for link in links_list:\n",
    "        #get the url\n",
    "        href = link['href']\n",
    "        #turn url into full url\n",
    "        full_link = url+ href\n",
    "        #append url to list\n",
    "        link_list.append(full_link)\n",
    "\n",
    "#print url list to check\n",
    "print(link_list)\n",
    "print(links_list)"
   ]
  },
  {
   "cell_type": "code",
   "execution_count": 17,
   "id": "b60e061b",
   "metadata": {},
   "outputs": [],
   "source": [
    "# iterate over links in link list\n",
    "for link in link_list:\n",
    "    url = link\n",
    "    browser.visit(url)\n",
    "    html = browser.html\n",
    "    soup = BeautifulSoup(html, 'html.parser')\n",
    "    #find all divs with class downloads\n",
    "    for div in soup.findAll(\"div\", attrs={\"class\": \"downloads\"}):\n",
    "        base_url = \"https://marshemispheres.com/\"\n",
    "        #find links with text Original and take href\n",
    "        img_url = base_url + div.find(\"a\", text=\"Sample\")[\"href\"]\n",
    "        #find h2 and get text from h2\n",
    "        h2 = soup.find(\"h2\").get_text()\n",
    "        # remove word Enhanced\n",
    "        title = h2.replace(\"Enhanced\",\"\")\n",
    "        #remove whitespace at end\n",
    "        title = title.rstrip()\n",
    "        #create dictionary to hold results\n",
    "        title_img_dict = {\n",
    "            \"title\": title,\n",
    "            \"img_url\": img_url\n",
    "        }\n",
    "        #append dictionary to list of dictionaries\n",
    "        hemisphere_image_urls.append(title_img_dict)"
   ]
  },
  {
   "cell_type": "code",
   "execution_count": 17,
   "id": "cd8e68a2",
   "metadata": {},
   "outputs": [
    {
     "name": "stdout",
     "output_type": "stream",
     "text": [
      "[{'title': 'Cerberus Hemisphere', 'img_url': 'https://marshemispheres.com/images/full.jpg'}, {'title': 'Schiaparelli Hemisphere', 'img_url': 'https://marshemispheres.com/images/schiaparelli_enhanced-full.jpg'}, {'title': 'Syrtis Major Hemisphere', 'img_url': 'https://marshemispheres.com/images/syrtis_major_enhanced-full.jpg'}, {'title': 'Valles Marineris Hemisphere', 'img_url': 'https://marshemispheres.com/images/valles_marineris_enhanced-full.jpg'}]\n"
     ]
    }
   ],
   "source": [
    "#check list of dictionaries\n",
    "print(hemisphere_image_urls)"
   ]
  },
  {
   "cell_type": "code",
   "execution_count": 18,
   "id": "cde1f602",
   "metadata": {},
   "outputs": [],
   "source": [
    "#close the splinter browser\n",
    "browser.quit()"
   ]
  },
  {
   "cell_type": "code",
   "execution_count": null,
   "id": "3ea242fc",
   "metadata": {},
   "outputs": [],
   "source": []
  }
 ],
 "metadata": {
  "kernelspec": {
   "display_name": "Python 3 (ipykernel)",
   "language": "python",
   "name": "python3"
  },
  "language_info": {
   "codemirror_mode": {
    "name": "ipython",
    "version": 3
   },
   "file_extension": ".py",
   "mimetype": "text/x-python",
   "name": "python",
   "nbconvert_exporter": "python",
   "pygments_lexer": "ipython3",
   "version": "3.9.6"
  }
 },
 "nbformat": 4,
 "nbformat_minor": 5
}
